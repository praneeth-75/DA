{
 "cells": [
  {
   "cell_type": "code",
   "execution_count": 3,
   "id": "a8777df3",
   "metadata": {},
   "outputs": [
    {
     "name": "stdout",
     "output_type": "stream",
     "text": [
      "ONE SAMPLE TWO TAILED t-TEST RESULTS\n",
      "--------------------------------------\n",
      "Hypothesized Population Mean : 450\n",
      "Sample Mean : 503\n",
      "Sample Size : 10\n",
      "Standard Deviation : 55.17\n",
      "t-test Result : 3.04\n",
      "t-critical : 1.83\n",
      "\n",
      " Null Hypothesis is rejected.\n"
     ]
    }
   ],
   "source": [
    "import numpy as np\n",
    "import statistics\n",
    "import math\n",
    "#create any array of numerical data\n",
    "data=[480,520,410,556,505,610,470,464,530,485]\n",
    "s=statistics.mean(data)\n",
    "pm=450\n",
    "t_crit=1.83 #alpha level is 0.05\n",
    "N=10\n",
    "# calculate standard deviation\n",
    "sd=0\n",
    "for e in data:\n",
    "    sd+=(float(e)-s)**2\n",
    "sigma=math.sqrt(sd/(N-1))\n",
    "den=sigma/np.sqrt(N)\n",
    "t_stat=(s-pm)/den\n",
    "print(\"ONE SAMPLE TWO TAILED t-TEST RESULTS\")\n",
    "print(\"--------------------------------------\")\n",
    "print(\"Hypothesized Population Mean :\",round(pm,2))\n",
    "print(\"Sample Mean :\",s)\n",
    "print(\"Sample Size :\",N)\n",
    "print(\"Standard Deviation :\",round(sigma,2))\n",
    "print(\"t-test Result :\",round(t_stat,2))\n",
    "print(\"t-critical :\",round(t_crit,2))\n",
    "if(t_stat<t_crit):\n",
    "    print(\"\\n Null Hypothesis is accepted.\")\n",
    "else:\n",
    "    print(\"\\n Null Hypothesis is rejected.\")"
   ]
  },
  {
   "cell_type": "code",
   "execution_count": 6,
   "id": "302c216b",
   "metadata": {},
   "outputs": [
    {
     "name": "stdout",
     "output_type": "stream",
     "text": [
      "TWO SAMPLES TWO TAILED z-TEST RESULTS\n",
      "--------------------------------------\n",
      "Standard Deviation of Two Samples : 60 and  90\n",
      "Sample Size of Two Samples : 40 and  60\n",
      "Sample Mean of Two Samples :  639.6 and  658.2\n",
      "z-test Result :  -1.24\n",
      "z-critical :  -2.05 and + 2.05\n",
      "\n",
      " Null Hypothesis is accepted.\n"
     ]
    }
   ],
   "source": [
    "import numpy as np\n",
    "x1_mean= 639.60\n",
    "x2_mean= 658.20\n",
    "std_p1= 60\n",
    "std_p2= 90\n",
    "n1 = 40\n",
    "n2 = 60\n",
    "num = x1_mean - x2_mean\n",
    "den = np.sqrt((std_p1*std_p1/n1) + (std_p2*std_p2/n2))\n",
    "z_stat =(num)/den\n",
    "#alpha level is 0.04\n",
    "z_crit1 = -2.05\n",
    "z_crit2 = 2.05\n",
    "print(\"TWO SAMPLES TWO TAILED z-TEST RESULTS\")\n",
    "print(\"--------------------------------------\")\n",
    "print(\"Standard Deviation of Two Samples :\",round(std_p1,2), \"and \" ,round(std_p2,2))\n",
    "print(\"Sample Size of Two Samples :\", n1,\"and \",n2)\n",
    "print(\"Sample Mean of Two Samples : \",x1_mean, \"and \", x2_mean)\n",
    "print(\"z-test Result : \",round(z_stat,2))\n",
    "print(\"z-critical : \",round(z_crit1,2),\"and +\",round(z_crit2,2))\n",
    "if(z_stat>z_crit1) and (z_stat<z_crit2):\n",
    "    print(\"\\n Null Hypothesis is accepted.\")\n",
    "else:\n",
    "    print(\"\\n Null Hypothesis is rejected.\")"
   ]
  },
  {
   "cell_type": "code",
   "execution_count": null,
   "id": "9c970208",
   "metadata": {},
   "outputs": [],
   "source": []
  }
 ],
 "metadata": {
  "kernelspec": {
   "display_name": "Python 3 (ipykernel)",
   "language": "python",
   "name": "python3"
  },
  "language_info": {
   "codemirror_mode": {
    "name": "ipython",
    "version": 3
   },
   "file_extension": ".py",
   "mimetype": "text/x-python",
   "name": "python",
   "nbconvert_exporter": "python",
   "pygments_lexer": "ipython3",
   "version": "3.10.9"
  }
 },
 "nbformat": 4,
 "nbformat_minor": 5
}
